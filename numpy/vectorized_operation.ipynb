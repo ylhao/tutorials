{
 "cells": [
  {
   "cell_type": "code",
   "execution_count": 1,
   "metadata": {},
   "outputs": [],
   "source": [
    "# encoding: utf-8\n",
    "\n",
    "\n",
    "\"\"\"\n",
    "vectorized operation VS no-nvectorization operation\n",
    "\"\"\"\n",
    "\n",
    "\n",
    "import numpy as np\n",
    "import time"
   ]
  },
  {
   "cell_type": "code",
   "execution_count": 2,
   "metadata": {},
   "outputs": [],
   "source": [
    "\"\"\"\n",
    "numpy.random.rand(d0, d1, ..., dn)\n",
    "Create an array of the given shape and populate it with random samples from a uniform distribution over [0, 1).\n",
    "\"\"\"\n",
    "a = np.random.rand(1000000)\n",
    "b = np.random.rand(1000000)"
   ]
  },
  {
   "cell_type": "code",
   "execution_count": 3,
   "metadata": {},
   "outputs": [
    {
     "name": "stdout",
     "output_type": "stream",
     "text": [
      "a.shape: (1000000,)\n",
      "b.shape: (1000000,)\n",
      "a[0:10]: [0.46116267 0.61949397 0.1462582  0.72793007 0.49346255 0.70739375\n",
      " 0.7638433  0.32961178 0.17324827 0.04794491]\n",
      "b[0:10]: [0.66555916 0.27602732 0.66271005 0.69459064 0.65087307 0.86684807\n",
      " 0.01384946 0.23378228 0.09204297 0.85892773]\n"
     ]
    }
   ],
   "source": [
    "print('a.shape:', a.shape)\n",
    "print('b.shape:', b.shape)\n",
    "print('a[0:10]:', a[:10])\n",
    "print('b[0:10]:', b[:10])"
   ]
  },
  {
   "cell_type": "code",
   "execution_count": 4,
   "metadata": {},
   "outputs": [
    {
     "name": "stdout",
     "output_type": "stream",
     "text": [
      "vectorization version: 0.001998ms\n",
      "c = 250460.20682480908\n"
     ]
    }
   ],
   "source": [
    "start_time = time.time()\n",
    "c = np.dot(a, b)\n",
    "end_time = time.time()\n",
    "print('vectorization version: {:5f}ms'.format(end_time - start_time))\n",
    "print('c = {}'.format(c))"
   ]
  },
  {
   "cell_type": "code",
   "execution_count": 5,
   "metadata": {},
   "outputs": [
    {
     "name": "stdout",
     "output_type": "stream",
     "text": [
      "for loop version: 0.899787ms\n",
      "c = 250460.20682480253\n"
     ]
    }
   ],
   "source": [
    "c = 0\n",
    "start_time = time.time()\n",
    "for i in range(1000000):\n",
    "    c += a[i] * b[i]\n",
    "end_time = time.time()\n",
    "print('for loop version: {:5f}ms'.format(end_time - start_time))\n",
    "print('c = {}'.format(c))"
   ]
  },
  {
   "cell_type": "code",
   "execution_count": null,
   "metadata": {},
   "outputs": [],
   "source": []
  }
 ],
 "metadata": {
  "kernelspec": {
   "display_name": "Python 3",
   "language": "python",
   "name": "python3"
  },
  "language_info": {
   "codemirror_mode": {
    "name": "ipython",
    "version": 3
   },
   "file_extension": ".py",
   "mimetype": "text/x-python",
   "name": "python",
   "nbconvert_exporter": "python",
   "pygments_lexer": "ipython3",
   "version": "3.6.6"
  }
 },
 "nbformat": 4,
 "nbformat_minor": 2
}
