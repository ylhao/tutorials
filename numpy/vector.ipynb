{
 "cells": [
  {
   "cell_type": "code",
   "execution_count": 1,
   "metadata": {},
   "outputs": [],
   "source": [
    "# encoding: utf-8\n",
    "\n",
    "\n",
    "\n",
    "\"\"\"\n",
    "row vector and column vector\n",
    "\"\"\"\n",
    "\n",
    "\n",
    "import numpy as np"
   ]
  },
  {
   "cell_type": "code",
   "execution_count": 16,
   "metadata": {},
   "outputs": [
    {
     "name": "stdout",
     "output_type": "stream",
     "text": [
      "a:\n",
      "[-0.38471485 -0.29125155  0.56250371  1.22245346 -1.5610128 ]\n",
      "a.shape: (5,)\n",
      "type of a: <class 'numpy.ndarray'>\n"
     ]
    }
   ],
   "source": [
    "# a 的 shape 为 (5,)\n",
    "# a 既不是行向量也不是列向量\n",
    "# a 只是秩为 1 的数组 (array)\n",
    "a = np.random.randn(5)\n",
    "print('a:')\n",
    "print(a)\n",
    "print('a.shape:', a.shape) \n",
    "print('type of a:', type(a))"
   ]
  },
  {
   "cell_type": "code",
   "execution_count": 14,
   "metadata": {
    "scrolled": true
   },
   "outputs": [
    {
     "name": "stdout",
     "output_type": "stream",
     "text": [
      "a:\n",
      "[[ 0.11307553]\n",
      " [-0.24896048]\n",
      " [ 0.44495301]\n",
      " [ 1.16563686]\n",
      " [-1.46257002]]\n",
      "a.shape: (5, 1)\n",
      "type of a: <class 'numpy.ndarray'>\n"
     ]
    }
   ],
   "source": [
    "# 定义一个列向量\n",
    "a = np.random.randn(5, 1)\n",
    "print('a:')\n",
    "print(a)\n",
    "print('a.shape:', a.shape) \n",
    "print('type of a:', type(a))"
   ]
  },
  {
   "cell_type": "code",
   "execution_count": 18,
   "metadata": {},
   "outputs": [
    {
     "name": "stdout",
     "output_type": "stream",
     "text": [
      "a:\n",
      "[[-0.11772766]\n",
      " [-1.05902739]\n",
      " [-1.03733339]\n",
      " [ 0.24032049]\n",
      " [ 0.92371136]]\n",
      "a.shape: (5, 1)\n",
      "type of a: <class 'numpy.ndarray'>\n"
     ]
    }
   ],
   "source": [
    "# 定义一个列向量\n",
    "a = np.random.randn(5).reshape(5, 1)\n",
    "print('a:')\n",
    "print(a)\n",
    "print('a.shape:', a.shape) \n",
    "print('type of a:', type(a))"
   ]
  },
  {
   "cell_type": "code",
   "execution_count": 19,
   "metadata": {},
   "outputs": [
    {
     "name": "stdout",
     "output_type": "stream",
     "text": [
      "a:\n",
      "[[1]\n",
      " [2]\n",
      " [3]\n",
      " [4]\n",
      " [5]]\n",
      "a.shape: (5, 1)\n",
      "type of a: <class 'numpy.ndarray'>\n"
     ]
    }
   ],
   "source": [
    "# 定义一个列向量\n",
    "a = np.array([[1], [2], [3], [4], [5]])\n",
    "print('a:')\n",
    "print(a)\n",
    "print('a.shape:', a.shape) \n",
    "print('type of a:', type(a))"
   ]
  },
  {
   "cell_type": "code",
   "execution_count": 20,
   "metadata": {},
   "outputs": [
    {
     "name": "stdout",
     "output_type": "stream",
     "text": [
      "a:\n",
      "[[ 1.85745799 -0.51736037 -1.31659813 -0.80142942  0.64124853]]\n",
      "a.shape: (1, 5)\n",
      "type of a: <class 'numpy.ndarray'>\n"
     ]
    }
   ],
   "source": [
    "# 定义一个行向量\n",
    "a = np.random.randn(1, 5)\n",
    "print('a:')\n",
    "print(a)\n",
    "print('a.shape:', a.shape) \n",
    "print('type of a:', type(a))"
   ]
  },
  {
   "cell_type": "code",
   "execution_count": 21,
   "metadata": {},
   "outputs": [
    {
     "name": "stdout",
     "output_type": "stream",
     "text": [
      "a:\n",
      "[[ 0.31170805 -0.21119158 -0.80170553 -0.14191598  1.4992062 ]]\n",
      "a.shape: (1, 5)\n",
      "type of a: <class 'numpy.ndarray'>\n"
     ]
    }
   ],
   "source": [
    "# 定义一个行向量\n",
    "a = np.random.randn(5).reshape(1, 5)\n",
    "print('a:')\n",
    "print(a)\n",
    "print('a.shape:', a.shape) \n",
    "print('type of a:', type(a))"
   ]
  },
  {
   "cell_type": "code",
   "execution_count": 22,
   "metadata": {},
   "outputs": [
    {
     "name": "stdout",
     "output_type": "stream",
     "text": [
      "a:\n",
      "[[1 2 3 4 5]]\n",
      "a.shape: (1, 5)\n",
      "type of a: <class 'numpy.ndarray'>\n"
     ]
    }
   ],
   "source": [
    "# 定义一个行向量\n",
    "a = np.array([[1, 2, 3, 4, 5]])\n",
    "print('a:')\n",
    "print(a)\n",
    "print('a.shape:', a.shape) \n",
    "print('type of a:', type(a))"
   ]
  },
  {
   "cell_type": "code",
   "execution_count": 25,
   "metadata": {},
   "outputs": [
    {
     "name": "stdout",
     "output_type": "stream",
     "text": [
      "success (1, 5)\n"
     ]
    }
   ],
   "source": [
    "assert(a.shape == (1, 5))\n",
    "print('success (1, 5)')"
   ]
  },
  {
   "cell_type": "code",
   "execution_count": 31,
   "metadata": {},
   "outputs": [],
   "source": [
    "# # AssertionError\n",
    "# assert(a.shape == (1, 3))\n",
    "# print('success (1, 3)')"
   ]
  },
  {
   "cell_type": "code",
   "execution_count": null,
   "metadata": {},
   "outputs": [],
   "source": []
  }
 ],
 "metadata": {
  "kernelspec": {
   "display_name": "Python 3",
   "language": "python",
   "name": "python3"
  },
  "language_info": {
   "codemirror_mode": {
    "name": "ipython",
    "version": 3
   },
   "file_extension": ".py",
   "mimetype": "text/x-python",
   "name": "python",
   "nbconvert_exporter": "python",
   "pygments_lexer": "ipython3",
   "version": "3.6.6"
  }
 },
 "nbformat": 4,
 "nbformat_minor": 2
}
