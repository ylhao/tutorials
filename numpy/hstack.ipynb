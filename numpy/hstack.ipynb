{
 "cells": [
  {
   "cell_type": "code",
   "execution_count": 1,
   "metadata": {},
   "outputs": [],
   "source": [
    "# encoding: utf-8\n",
    "\n",
    "\n",
    "import numpy as np"
   ]
  },
  {
   "cell_type": "code",
   "execution_count": 2,
   "metadata": {},
   "outputs": [],
   "source": [
    "# numpy.hstack 是在第 2 个轴上进行合并，1 维数组没有第 2 个轴，所以 1 维数组可以看成水平合并\n",
    "\n",
    "A = np.array([1, 1, 1])\n",
    "B = np.array([2, 2, 2])\n",
    "C = np.hstack((A, B))\n",
    "print('A.shape:', A.shape)\n",
    "print('B.shape:', B.shape)\n",
    "print('C.shape:', C.shape)\n",
    "print('A = ', A)\n",
    "print('B = ', B)\n",
    "print('C = ', C)"
   ]
  },
  {
   "cell_type": "code",
   "execution_count": 3,
   "metadata": {
    "scrolled": false
   },
   "outputs": [
    {
     "name": "stdout",
     "output_type": "stream",
     "text": [
      "A.shape: (3, 1)\n",
      "B.shape: (3, 1)\n",
      "C.shape: (3, 2)\n",
      "A = \n",
      " [[1]\n",
      " [2]\n",
      " [3]]\n",
      "B = \n",
      " [[1]\n",
      " [2]\n",
      " [3]]\n",
      "C = \n",
      " [[1 1]\n",
      " [2 2]\n",
      " [3 3]]\n"
     ]
    }
   ],
   "source": [
    "A = np.array([[1], [2], [3]])\n",
    "B = np.array([[1], [2], [3]])\n",
    "C = np.hstack((A, B))\n",
    "print('A.shape:', A.shape)\n",
    "print('B.shape:', B.shape)\n",
    "print('C.shape:', C.shape)\n",
    "print('A = \\n', A)\n",
    "print('B = \\n', B)\n",
    "print('C = \\n', C)"
   ]
  },
  {
   "cell_type": "code",
   "execution_count": null,
   "metadata": {},
   "outputs": [],
   "source": []
  }
 ],
 "metadata": {
  "kernelspec": {
   "display_name": "Python 3",
   "language": "python",
   "name": "python3"
  },
  "language_info": {
   "codemirror_mode": {
    "name": "ipython",
    "version": 3
   },
   "file_extension": ".py",
   "mimetype": "text/x-python",
   "name": "python",
   "nbconvert_exporter": "python",
   "pygments_lexer": "ipython3",
   "version": "3.6.6"
  }
 },
 "nbformat": 4,
 "nbformat_minor": 2
}
