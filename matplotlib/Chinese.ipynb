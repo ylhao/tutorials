{
 "cells": [
  {
   "cell_type": "markdown",
   "metadata": {},
   "source": [
    "## Linux 系统 matplotlib 正常使用中文\n",
    "\n",
    "- 在该实验中用到的 Linux 系统是 Ubuntu 16.04。\n",
    "- [下载中文字体 simhei.ttf](http://fontzone.net/download/simhei)。\n",
    "- 搜索 matplotlib 的字体安装位置：`locate -b '\\mpl-data'`。由于我创建了虚拟环境，得到的路径为：\n",
    "```\n",
    "/home/yilonghao/ml/venv/lib/python3.5/site-packages/matplotlib/mpl-data\n",
    "```\n",
    "- 切换到目标路径下（注意命令末尾的/fonts/ttf）：\n",
    "```\n",
    "cd /home/yilonghao/ml/venv/lib/python3.5/site-packages/matplotlib/mpl-data/fonts/ttf\n",
    "```\n",
    "- 将下载的字体拷贝到该路径下。\n",
    "- 删除当前用户的 matplotlib 缓存。\n",
    "```\n",
    "cd ~/.cache/matplotlib\n",
    "rm -rf *.*\n",
    "```"
   ]
  },
  {
   "cell_type": "markdown",
   "metadata": {},
   "source": [
    "## Windows 系统 matplotlib 使用中文\n",
    "\n",
    "Windows 系统 matplotlib 可以直接通过在代码中添加 `matplotlib.rcParams['font.sans-serif'] = ['SimHei']` 使用中文。"
   ]
  },
  {
   "cell_type": "code",
   "execution_count": 6,
   "metadata": {},
   "outputs": [],
   "source": [
    "import matplotlib\n",
    "import matplotlib.pyplot as plt\n",
    "matplotlib.rcParams['font.sans-serif'] = ['SimHei']  # 显示中文"
   ]
  },
  {
   "cell_type": "code",
   "execution_count": 8,
   "metadata": {},
   "outputs": [
    {
     "data": {
      "image/png": "[encoded data removed]",
      "text/plain": [
       "<Figure size 576x432 with 1 Axes>"
      ]
     },
     "metadata": {
      "needs_background": "light"
     },
     "output_type": "display_data"
    }
   ],
   "source": [
    "fig = plt.figure(figsize=(8, 6))\n",
    "x_axis = ['星期一', '星期二', '星期三', '星期四', '星期五', '星期六', '星期日']\n",
    "y_axis = [100, 200, 300, 400, 300, 200, 100]\n",
    "plt.bar(range(len(y_axis)), y_axis, width=1., color='rgb',tick_label=x_axis)\n",
    "plt.ylabel('销量（KG）')\n",
    "plt.title('水果销量统计图')\n",
    "plt.savefig('./水果销量统计图（中文版）.png')\n",
    "plt.show()"
   ]
  },
  {
   "cell_type": "code",
   "execution_count": null,
   "metadata": {},
   "outputs": [],
   "source": []
  }
 ],
 "metadata": {
  "kernelspec": {
   "display_name": "Python 3",
   "language": "python",
   "name": "python3"
  },
  "language_info": {
   "codemirror_mode": {
    "name": "ipython",
    "version": 3
   },
   "file_extension": ".py",
   "mimetype": "text/x-python",
   "name": "python",
   "nbconvert_exporter": "python",
   "pygments_lexer": "ipython3",
   "version": "3.5.2"
  }
 },
 "nbformat": 4,
 "nbformat_minor": 2
}
