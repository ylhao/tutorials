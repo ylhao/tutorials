{
 "cells": [
  {
   "cell_type": "code",
   "execution_count": 1,
   "metadata": {},
   "outputs": [
    {
     "name": "stdout",
     "output_type": "stream",
     "text": [
      "{'hello': 0, 'world': 1, 'nice': 0}\n"
     ]
    }
   ],
   "source": [
    "\"\"\"\n",
    "使用 if else 判断\n",
    "\"\"\"\n",
    "words = ['hello', 'world', 'nice', 'world']\n",
    "counter = dict()\n",
    "for kw in words:\n",
    "    if kw in counter:\n",
    "        counter[kw] += 1\n",
    "    else:\n",
    "        counter[kw] = 0\n",
    "print(counter)"
   ]
  },
  {
   "cell_type": "code",
   "execution_count": 2,
   "metadata": {},
   "outputs": [
    {
     "name": "stdout",
     "output_type": "stream",
     "text": [
      "{'hello': 1, 'world': 2, 'nice': 1}\n"
     ]
    }
   ],
   "source": [
    "\"\"\"\n",
    "使用 setdefault 设置默认值\n",
    "\"\"\"\n",
    "words = ['hello', 'world', 'nice', 'world']\n",
    "counter = dict()\n",
    "for kw in words:\n",
    "    counter.setdefault(kw, 0)\n",
    "    counter[kw] += 1\n",
    "print(counter)"
   ]
  },
  {
   "cell_type": "code",
   "execution_count": 3,
   "metadata": {},
   "outputs": [
    {
     "name": "stdout",
     "output_type": "stream",
     "text": [
      "{'hello': 1, 'world': 2, 'nice': 1}\n"
     ]
    }
   ],
   "source": [
    "\"\"\"\n",
    "setdefault()，需提供两个参数，第一个参数是键值，第二个参数是默认值，\n",
    "每次调用都有一个返回值，如果字典中不存在该键则返回默认值，\n",
    "如果存在该键则返回该值，利用返回值可再次修改代码。\n",
    "\"\"\"\n",
    "words = ['hello', 'world', 'nice', 'world']\n",
    "counter = dict()\n",
    "for kw in words:\n",
    "    counter[kw] = counter.setdefault(kw, 0) + 1\n",
    "print(counter)"
   ]
  },
  {
   "cell_type": "code",
   "execution_count": 4,
   "metadata": {
    "scrolled": false
   },
   "outputs": [
    {
     "name": "stdout",
     "output_type": "stream",
     "text": [
      "[]\n",
      "defaultdict(<class 'list'>, {'hh': []})\n",
      "['haha']\n",
      "defaultdict(<class 'list'>, {'hh': ['haha']})\n"
     ]
    }
   ],
   "source": [
    "\"\"\"\n",
    "defaultdict\n",
    "\n",
    "一种特殊类型的字典（defaultdict）本身就保存了默认值，\n",
    "defaultdict 类的初始化函数接受一个类名作为参数，\n",
    "当所访问的键不存在的时候，可以实例化一个值作为默认值。\n",
    "\n",
    "该类除了接受类型名称作为初始化函数的参数之外，\n",
    "还可以使用任何不带参数的可调用函数，\n",
    "到时该函数的返回结果作为默认值，这样使得默认值的取值更加灵活。\n",
    "\"\"\"\n",
    "from collections import defaultdict\n",
    "dd = defaultdict(list)\n",
    "dd['hh']\n",
    "print(dd['hh'])\n",
    "print(dd)\n",
    "dd['hh'].append('haha')\n",
    "print(dd['hh'])\n",
    "print(dd)"
   ]
  },
  {
   "cell_type": "code",
   "execution_count": 5,
   "metadata": {},
   "outputs": [
    {
     "name": "stdout",
     "output_type": "stream",
     "text": [
      "0\n",
      "defaultdict(<function zero at 0x000001B0150CA2F0>, {'hello': 0})\n"
     ]
    }
   ],
   "source": [
    "def zero():\n",
    "    return 0\n",
    "\n",
    "\n",
    "counter = defaultdict(zero)\n",
    "counter['hello']\n",
    "print(counter['hello'])\n",
    "print(counter)"
   ]
  },
  {
   "cell_type": "code",
   "execution_count": 6,
   "metadata": {},
   "outputs": [
    {
     "name": "stdout",
     "output_type": "stream",
     "text": [
      "defaultdict(<function <lambda> at 0x000001B0150CA598>, {'hello': 1, 'world': 2, 'nice': 1})\n"
     ]
    }
   ],
   "source": [
    "words = ['hello', 'world', 'nice', 'world']\n",
    "# 使用 lambda 来定义简单的函数\n",
    "counter = defaultdict(lambda: 0) \n",
    "for kw in words:\n",
    "    counter[kw] += 1\n",
    "print(counter)"
   ]
  },
  {
   "cell_type": "code",
   "execution_count": null,
   "metadata": {},
   "outputs": [],
   "source": []
  }
 ],
 "metadata": {
  "kernelspec": {
   "display_name": "Python 3",
   "language": "python",
   "name": "python3"
  },
  "language_info": {
   "codemirror_mode": {
    "name": "ipython",
    "version": 3
   },
   "file_extension": ".py",
   "mimetype": "text/x-python",
   "name": "python",
   "nbconvert_exporter": "python",
   "pygments_lexer": "ipython3",
   "version": "3.6.6"
  }
 },
 "nbformat": 4,
 "nbformat_minor": 2
}
