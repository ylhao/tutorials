{
 "cells": [
  {
   "cell_type": "code",
   "execution_count": 1,
   "metadata": {},
   "outputs": [],
   "source": [
    "import collections"
   ]
  },
  {
   "cell_type": "code",
   "execution_count": 30,
   "metadata": {},
   "outputs": [
    {
     "name": "stdout",
     "output_type": "stream",
     "text": [
      "{'a': 'A', 'b': 'B', 'c': 'C', '1': 1, '2': 2}\n",
      "OrderedDict([('a', 'A'), ('c', 'C'), ('b', 'B'), ('1', 1), ('2', 2)])\n",
      "odict_items([('a', 'A'), ('c', 'C'), ('b', 'B'), ('1', 1), ('2', 2)])\n",
      "odict_values(['A', 'C', 'B', 1, 2])\n",
      "odict_keys(['a', 'c', 'b', '1', '2'])\n"
     ]
    }
   ],
   "source": [
    "d1 = {}\n",
    "d1['a']='A'\n",
    "d1['b']='B'\n",
    "d1['c']='C'\n",
    "d1['1']=1\n",
    "d1['2']=2\n",
    "\n",
    "d2 = collections.OrderedDict()\n",
    "d2['a']='A'\n",
    "d2['c']='C'\n",
    "d2['b']='B'\n",
    "d2['1']=1\n",
    "d2['2']=2\n",
    "\n",
    "print(d1)\n",
    "print(d2)\n",
    "\n",
    "print(d2.items())\n",
    "print(d2.values())\n",
    "print(d2.keys())"
   ]
  },
  {
   "cell_type": "code",
   "execution_count": 13,
   "metadata": {},
   "outputs": [
    {
     "name": "stdout",
     "output_type": "stream",
     "text": [
      "Regular dictionary:\n"
     ]
    },
    {
     "data": {
      "text/plain": [
       "True"
      ]
     },
     "execution_count": 13,
     "metadata": {},
     "output_type": "execute_result"
    }
   ],
   "source": [
    "print('Regular dictionary:')\n",
    "\n",
    "d2={}\n",
    "d2['a']='A'\n",
    "d2['b']='B'\n",
    "d2['c']='C'\n",
    "\n",
    "d3={}\n",
    "d3['c']='C'\n",
    "d3['a']='A'\n",
    "d3['b']='B'\n",
    "\n",
    "d2 == d3"
   ]
  },
  {
   "cell_type": "code",
   "execution_count": 14,
   "metadata": {},
   "outputs": [
    {
     "name": "stdout",
     "output_type": "stream",
     "text": [
      "OrderedDict:\n"
     ]
    },
    {
     "data": {
      "text/plain": [
       "False"
      ]
     },
     "execution_count": 14,
     "metadata": {},
     "output_type": "execute_result"
    }
   ],
   "source": [
    "print('OrderedDict:')\n",
    "d4=collections.OrderedDict()\n",
    "d4['a']='A'\n",
    "d4['b']='B'\n",
    "d4['c']='C'\n",
    "\n",
    "d5=collections.OrderedDict()\n",
    "d5['c']='C'\n",
    "d5['a']='A'\n",
    "d5['b']='B'\n",
    "\n",
    "d4 == d5"
   ]
  }
 ],
 "metadata": {
  "kernelspec": {
   "display_name": "Python 3",
   "language": "python",
   "name": "python3"
  },
  "language_info": {
   "codemirror_mode": {
    "name": "ipython",
    "version": 3
   },
   "file_extension": ".py",
   "mimetype": "text/x-python",
   "name": "python",
   "nbconvert_exporter": "python",
   "pygments_lexer": "ipython3",
   "version": "3.7.5"
  }
 },
 "nbformat": 4,
 "nbformat_minor": 2
}
