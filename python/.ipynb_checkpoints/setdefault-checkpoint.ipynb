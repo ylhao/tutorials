{
 "cells": [
  {
   "cell_type": "code",
   "execution_count": 1,
   "metadata": {},
   "outputs": [
    {
     "name": "stdout",
     "output_type": "stream",
     "text": [
      "{'hello': 0, 'world': 1, 'nice': 0}\n"
     ]
    }
   ],
   "source": [
    "\"\"\"\n",
    "使用 if else 判断\n",
    "\"\"\"\n",
    "words = ['hello', 'world', 'nice', 'world']\n",
    "counter = dict()\n",
    "for kw in words:\n",
    "    if kw in counter:\n",
    "        counter[kw] += 1\n",
    "    else:\n",
    "        counter[kw] = 0\n",
    "print(counter)"
   ]
  },
  {
   "cell_type": "code",
   "execution_count": 2,
   "metadata": {},
   "outputs": [
    {
     "name": "stdout",
     "output_type": "stream",
     "text": [
      "{'hello': 1, 'world': 2, 'nice': 1}\n"
     ]
    }
   ],
   "source": [
    "\"\"\"\n",
    "使用 setdefault 设置默认值\n",
    "\"\"\"\n",
    "words = ['hello', 'world', 'nice', 'world']\n",
    "counter = dict()\n",
    "for kw in words:\n",
    "    counter.setdefault(kw, 0)\n",
    "    counter[kw] += 1\n",
    "print(counter)"
   ]
  },
  {
   "cell_type": "code",
   "execution_count": 3,
   "metadata": {},
   "outputs": [
    {
     "name": "stdout",
     "output_type": "stream",
     "text": [
      "{'hello': 1, 'world': 2, 'nice': 1}\n"
     ]
    }
   ],
   "source": [
    "\"\"\"\n",
    "setdefault()，需提供两个参数，第一个参数是键值，第二个参数是默认值，\n",
    "每次调用都有一个返回值，如果字典中不存在该键则返回默认值，\n",
    "如果存在该键则返回该值，利用返回值可再次修改代码。\n",
    "\"\"\"\n",
    "words = ['hello', 'world', 'nice', 'world']\n",
    "counter = dict()\n",
    "for kw in words:\n",
    "    counter[kw] = counter.setdefault(kw, 0) + 1\n",
    "print(counter)"
   ]
  }
 ],
 "metadata": {
  "kernelspec": {
   "display_name": "Python 3",
   "language": "python",
   "name": "python3"
  },
  "language_info": {
   "codemirror_mode": {
    "name": "ipython",
    "version": 3
   },
   "file_extension": ".py",
   "mimetype": "text/x-python",
   "name": "python",
   "nbconvert_exporter": "python",
   "pygments_lexer": "ipython3",
   "version": "3.7.5"
  }
 },
 "nbformat": 4,
 "nbformat_minor": 2
}
