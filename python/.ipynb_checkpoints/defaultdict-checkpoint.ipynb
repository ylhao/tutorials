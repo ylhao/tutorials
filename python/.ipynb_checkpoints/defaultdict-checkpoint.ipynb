{
 "cells": [
  {
   "cell_type": "code",
   "execution_count": 1,
   "metadata": {},
   "outputs": [
    {
     "name": "stdout",
     "output_type": "stream",
     "text": [
      "[]\n",
      "defaultdict(<class 'list'>, {'hh': []})\n",
      "['haha']\n",
      "defaultdict(<class 'list'>, {'hh': ['haha']})\n"
     ]
    }
   ],
   "source": [
    "\"\"\"\n",
    "defaultdict\n",
    "\n",
    "一种特殊类型的字典（defaultdict）本身就保存了默认值，\n",
    "defaultdict 类的初始化函数接受一个类名作为参数，\n",
    "当所访问的键不存在的时候，可以实例化一个值作为默认值。\n",
    "\n",
    "该类除了接受类型名称作为初始化函数的参数之外，\n",
    "还可以使用任何不带参数的可调用函数，\n",
    "到时该函数的返回结果作为默认值，这样使得默认值的取值更加灵活。\n",
    "\"\"\"\n",
    "from collections import defaultdict\n",
    "dd = defaultdict(list)\n",
    "dd['hh']\n",
    "print(dd['hh'])\n",
    "print(dd)\n",
    "dd['hh'].append('haha')\n",
    "print(dd['hh'])\n",
    "print(dd)"
   ]
  }
 ],
 "metadata": {
  "kernelspec": {
   "display_name": "Python 3",
   "language": "python",
   "name": "python3"
  },
  "language_info": {
   "codemirror_mode": {
    "name": "ipython",
    "version": 3
   },
   "file_extension": ".py",
   "mimetype": "text/x-python",
   "name": "python",
   "nbconvert_exporter": "python",
   "pygments_lexer": "ipython3",
   "version": "3.7.5"
  }
 },
 "nbformat": 4,
 "nbformat_minor": 2
}
